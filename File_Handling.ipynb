{
 "cells": [
  {
   "cell_type": "code",
   "execution_count": 1,
   "metadata": {},
   "outputs": [],
   "source": [
    "with open(\"conv-Copy1.txt\",\"r\") as f:\n",
    "    comp_text=f.readlines()\n",
    "    "
   ]
  },
  {
   "cell_type": "markdown",
   "metadata": {},
   "source": [
    "## To Know No. of Unique Characters in the Conversation"
   ]
  },
  {
   "cell_type": "code",
   "execution_count": 2,
   "metadata": {},
   "outputs": [
    {
     "name": "stdout",
     "output_type": "stream",
     "text": [
      "{'WAYMAR ROYCE', 'CASSEL', 'THEON', 'ROYCE', 'CATELYN', 'WILL', 'BRAN', 'JAIME', 'ROBB', 'NED', 'ARYA', 'GARED', 'JON', 'ROBERT', 'CERSEI', 'SANSA', 'SEPTA MORDANE'}\n",
      "No. of Unique Characters in Sample Conversation is 17.\n"
     ]
    }
   ],
   "source": [
    "conv_with_name=[]\n",
    "name=[]\n",
    "for i in comp_text:\n",
    "    if i=='\\n':\n",
    "        pass\n",
    "    else:\n",
    "        conv_with_name=i.split(':')\n",
    "        name.append(conv_with_name[0])\n",
    "        conv_with_name=[]\n",
    "name=set(name)\n",
    "print(name)\n",
    "print(\"No. of Unique Characters in Sample Conversation is {}.\".format(len(name)))\n",
    "\n",
    "    \n",
    "    "
   ]
  },
  {
   "cell_type": "markdown",
   "metadata": {},
   "source": [
    "## To Create File for Each Character of the conversation with some Unique words said by them. Only one word in one line"
   ]
  },
  {
   "cell_type": "code",
   "execution_count": 3,
   "metadata": {},
   "outputs": [
    {
     "name": "stdout",
     "output_type": "stream",
     "text": [
      "{'WILL': [' Iâ€™ve never seen wildlings do a thing like this. Iâ€™ve never seen a thing like this, not ever in my life.', ' Close as any man would.', ' Whatever did it to them could do it to us. They even killed the children.', ' They were here.'], 'WAYMAR ROYCE': [' How close did you get?'], 'GARED': [' We should head back to the wall.', ' Our orders were to track the wildlings. We tracked them. They wonâ€™t trouble us no more.', ' See where they went.'], 'ROYCE': [' Do the dead frighten you?', ' You donâ€™t think heâ€™ll ask us how they died? Get back on your horse.', ' Itâ€™s a good thing weâ€™re not children. You want to run away south, run away. Of course, they will behead you as a deserter â€¦ If I donâ€™t catch you first. Get back on your horse. I wonâ€™t say it again.', ' Your dead men seem to have moved camp.', ' What is it?'], 'JON': [' Go on. Fatherâ€™s watching.', ' And your mother.', ' Donâ€™t think too much, Bran.', ' Father will know if you do.', ' You did well.', ' What is it?', ' Now there are five.', ' You want to hold it?', ' Lord Stark? There are five pups. One for each of the Stark children. The direwolf is the sigil of your House. They were meant to have them.', ' Iâ€™m not a Stark. Get on.'], 'SEPTA MORDANE': [' Fine work, as always. Well done.', ' I love the detail that youâ€™ve managed to get in this corners.'], 'SANSA': [' Thank you.', ' Will you shut up?', ' Would you please shut up.'], 'NED': [' And which one of you was a marksman at ten? Keep practicing, Bran. Go on.', ' Get the lads to saddle their horses.', ' He swore an oath, Cat.', ' Tell Bran heâ€™s coming, too.', ' He wonâ€™t be a boy forever. And winter is coming.', ' King of the Andals and the First Men â€¦', ' Lord of the Seven Kingdoms and protector of the realm, I, Eddard of the House Stark, Lord of Winterfell and Warden of the North, sentence you to die.', ' You understand why I did it?', ' But do you understand why I had to kill him?', ' The man who passes the sentence should swing the sword.', ' The White Walkers have been gone for thousands of years.', ' A madman sees what he sees.', ' There are no mountain lions in these woods.', ' Itâ€™s a direwolf.', ' Tough old beast.', ' Better a quick death. They wonâ€™t last without their mother.', ' Iâ€™m sorry, Bran.', ' You will train them yourselves. You will feed them yourselves. And if they die, you will bury them yourselves.', ' You have five northern children. Youâ€™re not an outsider.', ' Itâ€™s your gods with all the rules.', ' Tell me.', ' Your Grace.', ' Guarding the North for you, Your Grace. Winterfell is yours.', ' My queen.', ' Tell me about Jon Arryn.', ' We both did.', ' Aye.'], 'ROBB': [' Relax your bow arm.', ' Lad, go run back and get the rest.', ' There are no direwolves south of the Wall.', ' Put away your blade.', ' What is it?', ' I hear the prince is a right royal prick.', ' Go on, Tommy, shave him good. Heâ€™s never met a girl he likes better than his own hair.'], 'CASSEL': [' Lord Stark. My lady. A guardsman just rode in from the hills. Theyâ€™ve captured a deserter from the Nightâ€™s Watch.', ' The law is law, my lady.', ' They donâ€™t belong down here.'], 'CATELYN': [' Do you have to?', ' Ned. Ten is too young to see such things.', ' All these years and I still feel like an outsider when I come here.', ' I wonder if the old gods agree.', ' I am so sorry, my love.', ' Gods, but they grow fast.', ' How many times have I told you No climbing!', ' I want you to promise me. No more climbing.', ' Your Grace.', ' My queen.'], 'BRAN': [' Jon said he was a deserter.', ' Our way is the old way?', ' Is it true he saw the White Walkers?', ' So he was lying?', ' Where will they go? Their motherâ€™s dead.', ' NO!', ' Please, father!', ' What about you?', ' I saw the king! Heâ€™s got hundreds of people!', ' But heâ€™s coming right now! Down our road!'], 'THEON': [' Mountain lion?', ' Itâ€™s a freak.', ' Right. Give it here.', ' I take orders from your father, not you.', ' Think of all those southern girls he gets to stab with his right royal prick.'], 'CERSEI': [' What if Jon Arryn told someone?', ' My husband.', ' You should be the Hand of the king.', ' Weâ€™ve been riding for a month, my love. Surely the dead can wait.', ' Where is our brother? Go find the little beast.'], 'JAIME': [' But who would he tell?', ' If he told the king, both our heads would be skewered on the city gates by now. Whatever Jon Arryn knew or didnâ€™t know, it died with him. And Robert will choose a new Hand of the king, someone to do his job while heâ€™s off fucking boars and hunting whores. Or is it the other way around? And life will go on.', ' Thatâ€™s an honor I can do without. Their days are too long, their lives are too short.'], 'ROBERT': [' Youâ€™ve got fat.', ' Cat!', ' Nine years. Why havenâ€™t I seen you? Where the hell have you been?', ' Who have we here? You must be Robb.', ' Ooh. Show us your muscles. Youâ€™ll be a soldier.', ' Take me to your crypt. I want to pay my respects.', ' Ned.', ' One minute he was fine, and then â€¦ Burned right through him, whatever it was. I loved that man.', ' He never had to teach you much, but me â€¦ You remember me at 16? All I wanted to do was crack skulls and fuck girls. He showed me what was what.'], 'ARYA': [' Whereâ€™s the Imp?', ' Arya.', ' Thatâ€™s Jaime Lannister. The queenâ€™s twin brother.', ' Whereâ€™s the Imp?']}\n"
     ]
    }
   ],
   "source": [
    "ls={}\n",
    "k=[]\n",
    "conv=[]\n",
    "for i in comp_text:\n",
    "    if i=='\\n':\n",
    "        pass\n",
    "    else:\n",
    "        conv_with_name=i.split(':')\n",
    "        name=conv_with_name[0]\n",
    "        conv_char=conv_with_name[1].split('\\n')\n",
    "        conv.append(conv_char[0])\n",
    "        convi=conv[0]\n",
    "        if name in ls.keys():\n",
    "            ls[name].extend([convi])\n",
    "        if name not in ls.keys():\n",
    "            k.append(convi)\n",
    "            ls[name]=k\n",
    "            k=[]\n",
    "        conv=[]\n",
    "print(ls)"
   ]
  },
  {
   "cell_type": "code",
   "execution_count": 4,
   "metadata": {},
   "outputs": [
    {
     "name": "stdout",
     "output_type": "stream",
     "text": [
      "[['WILL', {'', 'children.', 'do', 'thing', 'a', 'Whatever', 'as', 'here.', 'even', 'would.', 'Close', 'could', 'never', 'man', 'it', 'my', 'like', 'ever', 'were', 'Iâ€™ve', 'to', 'not', 'them', 'the', 'wildlings', 'any', 'this,', 'this.', 'killed', 'They', 'seen', 'did', 'us.', 'life.', 'in'}], ['WAYMAR ROYCE', {'', 'How', 'did', 'get?', 'you', 'close'}], ['GARED', {'', 'orders', 'tracked', 'they', 'trouble', 'went.', 'See', 'head', 'back', 'more.', 'them.', 'us', 'We', 'were', 'where', 'no', 'to', 'the', 'wildlings.', 'track', 'should', 'Our', 'They', 'wall.', 'wonâ€™t'}], ['ROYCE', {'', 'What', 'children.', 'say', 'I', 'seem', 'frighten', 'heâ€™ll', 'You', 'thing', 'a', 'men', 'first.', 'away.', 'they', 'If', 'want', 'you?', 'as', 'will', 'Itâ€™s', 'dead', 'Your', 'donâ€™t', 'on', 'have', 'Get', 'back', 'â€¦', 'away', 'you', 'south,', 'moved', 'good', 'us', 'run', 'horse.', 'wonâ€™t', 'it', 'it?', 'how', 'is', 'ask', 'not', 'to', 'the', 'again.', 'your', 'weâ€™re', 'behead', 'catch', 'deserter', 'camp.', 'died?', 'think', 'Do', 'course,', 'Of'}], ['JON', {'', 'Fatherâ€™s', 'What', 'children.', 'sigil', 'You', 'Now', 'a', 'meant', 'Stark?', 'hold', 'if', 'each', 'are', 'Stark.', 'much,', 'want', 'will', 'Iâ€™m', 'five.', 'One', 'for', 'have', 'Get', 'you', 'them.', 'House.', 'it?', 'Donâ€™t', 'of', 'well.', 'were', 'is', 'The', 'watching.', 'there', 'to', 'not', 'the', 'Go', 'on.', 'Bran.', 'your', 'five', 'too', 'do.', 'direwolf', 'think', 'Father', 'They', 'pups.', 'did', 'Lord', 'mother.', 'Stark', 'There', 'And', 'know'}], ['SEPTA MORDANE', {'', 'I', 'as', 'Well', 'detail', 'that', 'this', 'Fine', 'to', 'the', 'always.', 'done.', 'work,', 'corners.', 'managed', 'get', 'youâ€™ve', 'love', 'in'}], ['SANSA', {'', 'shut', 'Would', 'please', 'Thank', 'Will', 'up.', 'you', 'up?', 'you.'}], ['NED', {'', 'Tell', 'sword.', 'sees', 'be', 'me.', 'You', 'a', 'their', 'gods', 'Tough', 'practicing,', 'beast.', 'sentence', 'kill', 'sorry,', 'Iâ€™m', 'have', 'which', 'Bran', 'no', 'House', 'Go', 'on.', 'him?', 'die,', 'Seven', 'both', 'boy', 'why', 'Walkers', 'coming,', 'death.', 'realm,', 'at', 'you,', 'Cat.', 'wonâ€™t', 'understand', 'Jon', 'train', 'lads', 'all', 'yourselves.', 'queen.', 'what', 'are', 'White', 'these', 'too.', 'about', 'forever.', 'â€¦', 'you', 'man', 'Aye.', 'who', 'an', 'Kingdoms', 'The', 'the', 'Bran.', 'five', 'swore', 'years.', 'mountain', 'horses.', 'marksman', 'did', 'did.', 'me', 'There', 'in', 'winter', 'children.', 'I', 'quick', 'yours.', 'Grace.', 'Stark,', 'if', 'they', 'outsider.', 'was', 'Guarding', 'Itâ€™s', 'direwolf.', 'Get', 'heâ€™s', 'coming.', 'I,', 'it?', 'of', 'Winterfell', 'been', 'But', 'thousands', 'My', 'is', 'to', 'not', 'Better', 'your', 'should', 'Eddard', 'Men', 'They', 'without', 'King', 'oath,', 'mother.', 'And', 'last', 'die.', 'do', 'swing', 'Keep', 'bury', 'rules.', 'Andals', 'one', 'saddle', 'feed', 'North', 'will', 'had', 'lions', 'Your', 'A', 'for', 'Youâ€™re', 'protector', 'We', 'First', 'Warden', 'passes', 'Arryn.', 'madman', 'woods.', 'old', 'them', 'North,', 'He', 'he', 'gone', 'sees.', 'ten?', 'northern', 'with', 'Lord', 'and'}], ['ROBB', {'', 'What', 'I', 'own', 'likes', 'direwolves', 'royal', 'a', 'are', 'right', 'Heâ€™s', 'Relax', 'on,', 'Tommy,', 'good.', 'back', 'away', 'blade.', 'it?', 'never', 'run', 'of', 'met', 'prick.', 'bow', 'no', 'south', 'Wall.', 'rest.', 'is', 'go', 'the', 'prince', 'Go', 'better', 'Put', 'your', 'than', 'hair.', 'him', 'he', 'his', 'hear', 'shave', 'girl', 'get', 'arm.', 'and', 'Lad,', 'There'}], ['CASSEL', {'', 'law,', 'rode', 'a', 'lady.', 'Watch.', 'Stark.', 'down', 'here.', 'just', 'guardsman', 'A', 'donâ€™t', 'hills.', 'law', 'my', 'Nightâ€™s', 'My', 'is', 'The', 'the', 'captured', 'deserter', 'from', 'belong', 'They', 'Lord', 'Theyâ€™ve', 'in'}], ['CATELYN', {'', 'many', 'told', 'How', 'when', 'I', 'wonder', 'Gods,', 'me.', 'such', 'love.', 'climbing!', 'queen.', 'Ten', 'Grace.', 'see', 'All', 'still', 'if', 'gods', 'am', 'they', 'things.', 'these', 'No', 'want', 'promise', 'years', 'here.', 'sorry,', 'Ned.', 'come', 'agree.', 'Your', 'have', 'grow', 'times', 'you', 'young', 'my', 'like', 'old', 'an', 'My', 'is', 'to', 'outsider', 'the', 'feel', 'to?', 'fast.', 'but', 'too', 'more', 'Do', 'climbing.', 'so', 'and'}], ['BRAN', {'', 'What', 'Jon', 'I', 'way?', 'road!', 'said', 'a', 'Walkers?', 'they', 'NO!', 'White', 'Heâ€™s', 'right', 'you?', 'deserter.', 'was', 'Please,', 'saw', 'will', 'now!', 'got', 'Is', 'about', 'people!', 'heâ€™s', 'coming', 'father!', 'Where', 'it', 'of', 'old', 'king!', 'way', 'But', 'is', 'the', 'lying?', 'So', 'he', 'Our', 'go?', 'true', 'Their', 'dead.', 'motherâ€™s', 'Down', 'hundreds', 'our'}], ['THEON', {'', 'southern', 'those', 'I', 'all', 'Mountain', 'a', 'orders', 'Give', 'right', 'here.', 'Itâ€™s', 'gets', 'you.', 'it', 'of', 'lion?', 'freak.', 'prick.', 'father,', 'Right.', 'not', 'to', 'your', 'from', 'Think', 'girls', 'he', 'his', 'stab', 'take', 'with', 'royal'}], ['CERSEI', {'', 'told', 'What', 'Jon', 'brother?', 'be', 'someone?', 'love.', 'You', 'a', 'if', 'beast.', 'riding', 'dead', 'month,', 'for', 'Where', 'find', 'my', 'husband.', 'of', 'My', 'is', 'the', 'Go', 'should', 'little', 'can', 'Hand', 'Arryn', 'king.', 'Weâ€™ve', 'wait.', 'Surely', 'been', 'our'}], ['JAIME', {'', 'told', 'And', 'now.', 'Jon', 'do', 'be', 'fucking', 'I', 'new', 'a', 'Whatever', 'didnâ€™t', 'choose', 'while', 'or', 'their', 'are', 'If', 'hunting', 'by', 'knew', 'Robert', 'died', 'days', 'will', 'on', 'tell?', 'heâ€™s', 'lives', 'life', 'short.', 'honor', 'Or', 'it', 'of', 'long,', 'who', 'But', 'way', 'an', 'city', 'is', 'to', 'Thatâ€™s', 'skewered', 'the', 'go', 'on.', 'without.', 'around?', 'would', 'heads', 'both', 'gates', 'him.', 'job', 'boars', 'he', 'his', 'Hand', 'Arryn', 'can', 'too', 'someone', 'off', 'king,', 'Their', 'with', 'know,', 'other', 'and', 'whores.', 'our'}], ['ROBERT', {'', 'be', 'Who', 'You', 'a', 'fine,', 'was.', 'One', 'have', 'what.', 'crypt.', 'we', 'crack', '16?', 'but', 'Youâ€™ve', 'at', 'Youâ€™ll', 'then', 'All', 'Nine', 'what', 'right', 'want', 'him,', 'havenâ€™t', 'Ned.', 'Take', 'â€¦', 'you', 'never', 'must', 'Burned', 'here?', 'that', 'the', 'Why', 'girls.', 'loved', 'wanted', 'years.', 'hell', 'fuck', 'me', 'whatever', 'I', 'Ooh.', 'was', 'got', 'Show', 'been?', 'Where', 'it', 'to', 'soldier.', 'man.', 'your', 'showed', 'skulls', 'remember', 'Cat!', 'do', 'respects.', 'much,', 'you?', 'had', 'fat.', 'through', 'us', 'my', 'pay', 'teach', 'Robb.', 'minute', 'He', 'he', 'seen', 'and', 'muscles.'}], ['ARYA', {'', 'Lannister.', 'Whereâ€™s', 'twin', 'Arya.', 'Imp?', 'brother.', 'The', 'Thatâ€™s', 'queenâ€™s', 'the', 'Jaime'}]]\n"
     ]
    }
   ],
   "source": [
    "s=''\n",
    "q=[]\n",
    "for i in ls:\n",
    "    j=ls[i]\n",
    "    s=\"\".join(j)\n",
    "    q.append([i,set(s.split(' '))])\n",
    "print(q)"
   ]
  },
  {
   "cell_type": "code",
   "execution_count": 5,
   "metadata": {},
   "outputs": [],
   "source": [
    "p=[]\n",
    "e=''\n",
    "for i in q:\n",
    "    with open(i[0]+\".txt\", \"w+\") as f:\n",
    "        for i in i[1]:\n",
    "            if '.' in i:\n",
    "                p=i.split('.')\n",
    "                e=p[0]\n",
    "                f.write(e)\n",
    "                f.write(\"\\n\")\n",
    "            elif '!' in i:\n",
    "                p=i.split('!')\n",
    "                e=p[0]\n",
    "                f.write(e)\n",
    "                f.write(\"\\n\")\n",
    "            elif '?' in i:\n",
    "                p=i.split('?')\n",
    "                e=p[0]\n",
    "                f.write(e)\n",
    "                f.write(\"\\n\")\n",
    "            elif ',' in i:\n",
    "                p=i.split(',')\n",
    "                e=p[0]\n",
    "                f.write(e)\n",
    "                f.write(\"\\n\")\n",
    "            else:\n",
    "                f.write(i)\n",
    "                f.write(\"\\n\")\n",
    "                \n",
    "## Files are Created here"
   ]
  },
  {
   "cell_type": "code",
   "execution_count": null,
   "metadata": {},
   "outputs": [],
   "source": []
  },
  {
   "cell_type": "code",
   "execution_count": null,
   "metadata": {},
   "outputs": [],
   "source": []
  }
 ],
 "metadata": {
  "kernelspec": {
   "display_name": "Python 3",
   "language": "python",
   "name": "python3"
  },
  "language_info": {
   "codemirror_mode": {
    "name": "ipython",
    "version": 3
   },
   "file_extension": ".py",
   "mimetype": "text/x-python",
   "name": "python",
   "nbconvert_exporter": "python",
   "pygments_lexer": "ipython3",
   "version": "3.7.4"
  }
 },
 "nbformat": 4,
 "nbformat_minor": 2
}
